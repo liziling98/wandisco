{
 "cells": [
  {
   "cell_type": "code",
   "execution_count": 13,
   "metadata": {
    "collapsed": true
   },
   "outputs": [],
   "source": [
    "file_dir = '/fastdata/lip17adg/wandisco/talkback-FUSION-201811072236-dc3pl3332/fusion/logs/server/'\n",
    "filename1 = 'gc.log.20181021_104556.0.current'\n",
    "filename2 = 'gc.log.20181107_210001.0.current'\n",
    "data = open(file_dir+filename1).read()\n",
    "data += open(file_dir+filename2).read()"
   ]
  },
  {
   "cell_type": "code",
   "execution_count": 6,
   "metadata": {
    "collapsed": true
   },
   "outputs": [],
   "source": [
    "file_dir = '/fastdata/lip17adg/wandisco/talkback-FUSION-201811072236-dc3pl3402/fusion/logs/server/'\n",
    "filename1 = 'gc.log.20181021_104630.0.current'\n",
    "data = open(file_dir+filename1).read()"
   ]
  },
  {
   "cell_type": "code",
   "execution_count": 9,
   "metadata": {
    "collapsed": true
   },
   "outputs": [],
   "source": [
    "file_dir = '/fastdata/lip17adg/wandisco/talkback-FUSION-201811072237-gdcpl4172/fusion/logs/server/'\n",
    "filename1 = 'gc.log.20180218_015625.0.current'\n",
    "data = open(file_dir+filename1).read()"
   ]
  },
  {
   "cell_type": "code",
   "execution_count": 12,
   "metadata": {
    "collapsed": true
   },
   "outputs": [],
   "source": [
    "file_dir = '/fastdata/lip17adg/wandisco/talkback-FUSION-201811072237-gdcpl4173/fusion/logs/server/'\n",
    "filename1 = 'gc.log.20180218_015640.0.current'\n",
    "data = open(file_dir+filename1).read()"
   ]
  },
  {
   "cell_type": "code",
   "execution_count": 3,
   "metadata": {
    "collapsed": true
   },
   "outputs": [],
   "source": [
    "import re\n",
    "import pandas as pd\n",
    "import numpy as np"
   ]
  },
  {
   "cell_type": "code",
   "execution_count": 14,
   "metadata": {},
   "outputs": [],
   "source": [
    "pattern = re.compile('(\\d{4}-\\d{2}-\\d{2}T\\d{2}:\\d{2}:\\d{2}.\\d{3})[\\s\\S]+?(\\d.\\d+)\\ssecs[\\s\\S]+?(\\d+.\\d+)\\]\\s+\\[GC\\sWorker\\sEnd[\\s\\S]+?(\\d+.\\d+[A-Z])\\((\\d+.\\d+[A-Z])\\)\\-\\>(\\d+.\\d+[A-Z])\\((\\d+.\\d+[A-Z])\\)[\\s\\S]+?(\\d+.\\d+[A-Z])\\-\\>(\\d+.\\d+[A-Z])[\\s\\S]+?(\\d+.\\d+[A-Z])\\((\\d+.\\d+[A-Z])\\)\\-\\>(\\d+.\\d+[A-Z])\\((\\d+.\\d+[A-Z])\\)[\\s\\S]+?user\\=(\\d+.\\d+)[\\s\\S]+?sys\\=(\\d+.\\d+)[\\s\\S]+?real\\=(\\d+.\\d+)')    \n",
    "info = pattern.findall(data)\n",
    "columns = ['timestamp', 'GC pause', 'GC worker total', 'Eden1', 'Eden2', 'Eden3', 'Eden4', 'Survivors1', 'Survivors2', 'Heap_before_gc', 'Heap2', 'Heap_after_gc', 'Heap4', 'usertime', 'systime', 'realtime']\n",
    "df= pd.DataFrame(info, columns=columns)\n",
    "df[\"timestamp\"] = pd.to_datetime(df[\"timestamp\"])\n",
    "df[\"systime\"] = df[\"systime\"].astype(np.float)\n",
    "df[\"realtime\"] = df[\"realtime\"].astype(np.float)\n",
    "df[\"usertime\"] = df[\"usertime\"].astype(np.float)\n",
    "def sizeTransfer(size_info):\n",
    "    symbol = size_info[-1]\n",
    "    if symbol == 'G':\n",
    "        return float(size_info[:-1]) * 1024\n",
    "    elif symbol == 'B':\n",
    "        return float(size_info[:-1]) / 1024 / 1024\n",
    "    elif symbol == 'M':\n",
    "        return float(size_info[:-1])\n",
    "\n",
    "df[\"Heap_before_gc\"] = df[\"Heap_before_gc\"].map(sizeTransfer)\n",
    "df[\"Heap_after_gc\"] = df[\"Heap_after_gc\"].map(sizeTransfer)\n",
    "df[\"Eden1\"] = df[\"Eden1\"].map(sizeTransfer)\n",
    "df[\"Eden2\"] = df[\"Eden2\"].map(sizeTransfer)\n",
    "df[\"Eden3\"] = df[\"Eden3\"].map(sizeTransfer)\n",
    "df[\"Eden4\"] = df[\"Eden4\"].map(sizeTransfer)\n",
    "df[\"Survivors1\"] = df[\"Survivors1\"].map(sizeTransfer)\n",
    "df[\"Survivors2\"] = df[\"Survivors2\"].map(sizeTransfer)\n",
    "df[\"Heap2\"] = df[\"Heap2\"].map(sizeTransfer)\n",
    "df[\"Heap4\"] = df[\"Heap4\"].map(sizeTransfer)\n",
    "df['ratio'] = df['Heap_before_gc'] / df['Heap_after_gc']"
   ]
  },
  {
   "cell_type": "code",
   "execution_count": 15,
   "metadata": {},
   "outputs": [
    {
     "data": {
      "text/html": [
       "<div>\n",
       "<table border=\"1\" class=\"dataframe\">\n",
       "  <thead>\n",
       "    <tr style=\"text-align: right;\">\n",
       "      <th></th>\n",
       "      <th>timestamp</th>\n",
       "      <th>Heap_before_gc</th>\n",
       "      <th>Heap_after_gc</th>\n",
       "      <th>ratio</th>\n",
       "    </tr>\n",
       "  </thead>\n",
       "  <tbody>\n",
       "    <tr>\n",
       "      <th>0</th>\n",
       "      <td>2018-10-21 10:46:13.019</td>\n",
       "      <td>384.0</td>\n",
       "      <td>53.4</td>\n",
       "      <td>7.191011</td>\n",
       "    </tr>\n",
       "    <tr>\n",
       "      <th>1</th>\n",
       "      <td>2018-10-21 10:46:13.068</td>\n",
       "      <td>389.0</td>\n",
       "      <td>75.2</td>\n",
       "      <td>5.172872</td>\n",
       "    </tr>\n",
       "    <tr>\n",
       "      <th>2</th>\n",
       "      <td>2018-10-21 10:46:15.481</td>\n",
       "      <td>2411.2</td>\n",
       "      <td>107.8</td>\n",
       "      <td>22.367347</td>\n",
       "    </tr>\n",
       "    <tr>\n",
       "      <th>3</th>\n",
       "      <td>2018-10-21 10:46:24.691</td>\n",
       "      <td>2411.8</td>\n",
       "      <td>123.3</td>\n",
       "      <td>19.560422</td>\n",
       "    </tr>\n",
       "    <tr>\n",
       "      <th>4</th>\n",
       "      <td>2018-10-21 10:46:26.241</td>\n",
       "      <td>2427.3</td>\n",
       "      <td>146.5</td>\n",
       "      <td>16.568601</td>\n",
       "    </tr>\n",
       "    <tr>\n",
       "      <th>5</th>\n",
       "      <td>2018-10-21 10:46:31.634</td>\n",
       "      <td>2418.5</td>\n",
       "      <td>146.0</td>\n",
       "      <td>16.565068</td>\n",
       "    </tr>\n",
       "    <tr>\n",
       "      <th>6</th>\n",
       "      <td>2018-10-21 10:46:35.259</td>\n",
       "      <td>2418.0</td>\n",
       "      <td>163.7</td>\n",
       "      <td>14.770922</td>\n",
       "    </tr>\n",
       "    <tr>\n",
       "      <th>7</th>\n",
       "      <td>2018-10-21 10:46:38.399</td>\n",
       "      <td>2403.7</td>\n",
       "      <td>205.6</td>\n",
       "      <td>11.691148</td>\n",
       "    </tr>\n",
       "    <tr>\n",
       "      <th>8</th>\n",
       "      <td>2018-10-21 10:46:42.409</td>\n",
       "      <td>2413.6</td>\n",
       "      <td>203.3</td>\n",
       "      <td>11.872110</td>\n",
       "    </tr>\n",
       "    <tr>\n",
       "      <th>9</th>\n",
       "      <td>2018-10-21 10:46:44.231</td>\n",
       "      <td>2411.3</td>\n",
       "      <td>170.1</td>\n",
       "      <td>14.175779</td>\n",
       "    </tr>\n",
       "  </tbody>\n",
       "</table>\n",
       "</div>"
      ],
      "text/plain": [
       "                timestamp  Heap_before_gc  Heap_after_gc      ratio\n",
       "0 2018-10-21 10:46:13.019           384.0           53.4   7.191011\n",
       "1 2018-10-21 10:46:13.068           389.0           75.2   5.172872\n",
       "2 2018-10-21 10:46:15.481          2411.2          107.8  22.367347\n",
       "3 2018-10-21 10:46:24.691          2411.8          123.3  19.560422\n",
       "4 2018-10-21 10:46:26.241          2427.3          146.5  16.568601\n",
       "5 2018-10-21 10:46:31.634          2418.5          146.0  16.565068\n",
       "6 2018-10-21 10:46:35.259          2418.0          163.7  14.770922\n",
       "7 2018-10-21 10:46:38.399          2403.7          205.6  11.691148\n",
       "8 2018-10-21 10:46:42.409          2413.6          203.3  11.872110\n",
       "9 2018-10-21 10:46:44.231          2411.3          170.1  14.175779"
      ]
     },
     "execution_count": 15,
     "metadata": {},
     "output_type": "execute_result"
    }
   ],
   "source": [
    "df[[\"timestamp\", \"Heap_before_gc\", \"Heap_after_gc\", \"ratio\"]][:10]"
   ]
  },
  {
   "cell_type": "code",
   "execution_count": 16,
   "metadata": {
    "collapsed": true
   },
   "outputs": [],
   "source": [
    "df[[\"timestamp\", \"Heap_before_gc\", \"Heap_after_gc\", \"ratio\"]].to_csv(\"dc3pl3332.csv\", index=False)"
   ]
  }
 ],
 "metadata": {
  "anaconda-cloud": {},
  "kernelspec": {
   "display_name": "Python 3",
   "language": "python",
   "name": "python3"
  },
  "language_info": {
   "codemirror_mode": {
    "name": "ipython",
    "version": 3
   },
   "file_extension": ".py",
   "mimetype": "text/x-python",
   "name": "python",
   "nbconvert_exporter": "python",
   "pygments_lexer": "ipython3",
   "version": "3.6.5"
  }
 },
 "nbformat": 4,
 "nbformat_minor": 2
}
